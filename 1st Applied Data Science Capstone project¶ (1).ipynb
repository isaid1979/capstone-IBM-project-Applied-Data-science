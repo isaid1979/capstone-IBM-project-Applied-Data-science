{
 "cells": [
  {
   "cell_type": "markdown",
   "metadata": {},
   "source": [
    "# Capstone Project: Full Report: Car Accident Severity"
   ]
  },
  {
   "cell_type": "code",
   "execution_count": 1,
   "metadata": {},
   "outputs": [],
   "source": [
    "import pandas as pd\n",
    "import numpy as np"
   ]
  },
  {
   "cell_type": "code",
   "execution_count": 4,
   "metadata": {},
   "outputs": [
    {
     "name": "stdout",
     "output_type": "stream",
     "text": [
      "Hello Capstone Project Course!\n"
     ]
    }
   ],
   "source": [
    "print('Hello Capstone Project Course!')"
   ]
  },
  {
   "cell_type": "markdown",
   "metadata": {},
   "source": [
    "# 1. Introduction\n",
    "Road Accident is the most undesirable and unexpected thing to occur to a road user, though they happen quite often. Unfortunately, we can see a minatory rise of road accidents, conspicuously highroad accidents over the past few years. It has a massive impact on society as well as in the economy of the country as there is an immense cost of fatalities and injuries. According to a recent report, annually on an average 9,000 lives have been taken by road accidents and lead to almost 28,000 injuries. This record indicates the idea to leverage the accident data that you found to predict the different accidents' severity and come up with solution which can be benefial to the governement. Besides this, according to WHO, the economic cost of road accidents to a developing country like us is 2-3% of GDP, which is a significant loss for a country like ours. Moreover, reducing this loss has become a great matter of concern for our country now.\n",
    "\n",
    "Traffic collisions continue to be a serious problem. According to the annual collision report for 2015 released by the Washington State Dept. of Transportation (WSDOT), there were 117,053 collisions and approximately 59.7 billion miles driven. In 2015, there were\n",
    "\n",
    "5,576,586 Licensed drivers\n",
    "6,252,554 Registered vehicles\n",
    "416,699 Speeding citations\n",
    "33,697 Cell phone and texting citations"
   ]
  },
  {
   "cell_type": "markdown",
   "metadata": {},
   "source": [
    "# 2. Problem Statement\n",
    "Say you are driving to another city for work or to visit some friends. It is rainy and windy, and on the way, you come across a terrible traffic jam on the other side of the highway. Long lines of cars barely moving. As you keep driving, police car start appearing from afar shutting down the highway. Oh, it is an accident and there's a helicopter transporting the ones involved in the crash to the nearest hospital. They must be in critical condition for all of this to be happening. Now, wouldn't it be great if there is something in place that could warn you, given the weather and the road conditions about the possibility of you getting into a car accident and how severe it would be, so that you would drive more carefully or even change your travel if you are able to. Well, this is exactly what you will be working on in this course. So the problem statement here would be to come up with a project which canpredict the severity of an accident.\n",
    "\n",
    "TRAFFIC REPORT is based on data from 2004 to Present. The report states that \"Traffic volumes, speeds, and reported collisions are the three cardinal pieces of data traffic engineers and planners use to evaluate changes to Seattle streets.\n",
    "\n",
    "The ultimate project goals include:\n",
    "\n",
    "Identify dangerous locations\n",
    "Identify predictors of accidents (e.g., physical characteristics of the location, road condition, DUI, weather)\n",
    "Examine increase or decrease in number of accidents over time\n",
    "Identify predictors of increase or decrease in the number of accidents\n",
    "Recommend improvements on dangerous locations\n",
    "However, as you explore the dataset, other questions are likely to pop up in your head.\n",
    "\n",
    "We recommend making a note of those questions as they may guide you through your project. You are welcome to answer any questions you are interested in using this dataset."
   ]
  },
  {
   "cell_type": "markdown",
   "metadata": {},
   "source": [
    "# 3. Data Description\n",
    "For the accurate prediction of the severity of accidents, a considerable number of traffic accident records with full information is required to train by using the proposed approaches. In this research work, the authors have collected a dataset from the Traffic Bureau that consists of total 37,885 traffic accidents recorded from the year 2007-2017. The entire dataset will split into two parts- Training Dataset and Test Dataset. 70% of the whole dataset has been chosen randomly by using a python library as a training data set and the remaining 30% has been used as our test dataset. We have used the 70-30 ratio for splitting dataset because of its proven accuracy.\n",
    "\n",
    "About the original column variables¶\n",
    "X - longitude, the GPS values moving left to right (East and West) along the X axis\n",
    "Y - latitude, represented by horizontal lines, which go up and down (North and South)\n",
    "OBJECTID - ESRI unique identifier\n",
    "INCKEY - a unique key for the incident, variable type: Long\n",
    "COLDETKEY - a secondary key for the incident, variable type: Long\n",
    "REPORTNO - unknown\n",
    "STATUS - unknown\n",
    "ADDRTYPE - Collision address location type, variable type: text, 12 VARCHAR, e.g. Alley, Block, Intersection\n",
    "INTKEY - a key that corresponds to the intersection associated with a collision, variable type: Double\n",
    "LOCATION - a text description of location, e.g. TERRY AVE BETWEEN JAMES ST AND CHERRY ST\n",
    "EXCEPTRSNCODE - unknown\n",
    "EXCEPTRSNDESC - unknown\n",
    "\n",
    "SEVERITYCODE - a code that corresponds to the severity of the collision:\n",
    "3 — fatality\n",
    "2b — serious injury\n",
    "2 — injury\n",
    "1 — prop damage\n",
    "0 — unknown\n",
    "\n",
    "SEVERITYDESC - a description of the collision, e.g. Property Damage Only Collision, Injury Collision\n",
    "COLLISIONTYPE - a description of the collision type, e.g. Parked Car, Rear Ended, Sideswipe\n",
    "PERSONCOUNT - the total number of people involved\n",
    "PEDCOUNT - the total number of pedestrians involved\n",
    "PEDCYLCOUNT - the total number of cyclists involved\n",
    "VEHCOUNT - the total number of vehicles involved\n",
    "INJURIES - the total number of injuries other than fatal or disabling at the scene, including broken fingers or toes, abrasions, etc.\n",
    "SERIOUSINJURIES - total number of injuries that result in at least a temporary impairment, e.g. a broken limb. It does not mean that the collision resulted in a permanent disability\n",
    "FATALITIES - includes the total number of persons who died at the scene of the collisions, were dead on arrival at the hospital, or died within 30 days of the collision from collision-related injuries\n",
    "INCDATE - incident date\n",
    "INCDTTM - date and time of the incident, variable type: text, 30 VARCHAR\n",
    "JUNCTIONTYPE - category of the junction where the collision took place\n",
    "SDOT_COLCODE - the SDOT collision code\n",
    "SDOT_COLDESC - a description of the collision corresponding to the collision code\n",
    "INATTENTIONIND - whether or not collision was due to inattention. (Y/N)\n",
    "UNDERINFL - whether or not the driver was under the influence of alcohol or drugs\n",
    "WEATHER - a description of the weather, e.g. Raining, Clear\n",
    "ROADCOND - a description of the road conditions, e.g. Dry, Wet\n",
    "LIGHTCOND - a description of the light conditions, e.g. Dark - No Street Lights, Daylight\n",
    "PEDROWNOTGRNT - whether or not the pedestrian right of way was not granted. (Y/N)\n",
    "SDOTCOLNUM - unknown\n",
    "SPEEDING - whether or not the driver was speeding\n",
    "ST_COLCODE - code provided by the state that describes the collision, for example: $\\,\\,$ 0 - Vehicle Going Straight Hits Pedestrian\n",
    "0 - Vehicle Going Straight Hits Pedestrian\n",
    "1 - Vehicle Turning Right Hits Pedestrian\n",
    "2 - Vehicle Turning Left Hits Pedestrian\n",
    "3 - Vehicle Backing Hits Pedestrian\n",
    "4 - Vehicle Hits Pedestrian - All Other Actions\n",
    "5 - Vehicle Hits Pedestrian - Actions Not Stated\n",
    "10 - Entering At Angle\n",
    "11 - From Same Direction -Both Going Straight-Both Moving- Sideswipe\n",
    "12 - From Same Direction -Both Going Straight-One Stopped- Sideswipe\n",
    "13 - From Same Direction - Both Going Straight - Both Moving - Rear End\n",
    "14 - From Same Direction - Both Going Straight - One Stopped - Rear End\n",
    "15 - From Same Direction - One Left Turn - One Straight\n",
    "16 - From Same Direction - One Right Turn - One Straight\n",
    "19 - One Car Entering Parked Position\n",
    "20 - One Car Leaving Parked Position\n",
    "21 - One Car Entering Driveway Access\n",
    "22 - One Car Leaving Driveway Access\n",
    "23 - From Same Direction - All Others\n",
    "24 - From Opposite Direction - Both Moving - Head On\n",
    "25 - From Opposite Direction - One Stopped - Head On\n",
    "26 - From Opposite Direction - Both Going Straight - sideswipe\n",
    "27 - From Opposite Direction - Both Going Straight - One Stopped - sideswipe\n",
    "28 - From Opposite Direction - One Left Turn - One Straight\n",
    "29 - From Opposite Direction - One Left Turn - One Right Turn\n",
    "30 - From Opposite Direction - All Others\n",
    "31 - Not Stated\n",
    "32 - One Parked - One Moving\n",
    "40 - Train Struck Moving Vehicle\n",
    "41 - Train Struck Stopped or Stalled Vehicle\n",
    "42 - Vehicle Struck Moving Train\n",
    "43 - Vehicle Struck Stopped Train\n",
    "44 - Unicycle\n",
    "45 - Bicycle\n",
    "46 - Tricycle\n",
    "47 - Domestic Animal (horse, cow, sheep, etc)\n",
    "48 - Domestic Animal Other (Cat, Dog etc)\n",
    "49 - Non Domestic Animal (deer, bear, elk, etc)\n",
    "50 - Struck Fixed Object 51 - Struck Other Object\n",
    "52 - Vehicle Overturned\n",
    "53 - Person Fell, Jumped, or was Pushed From Vehicle\n",
    "54 - Fire Started In Vehicle\n",
    "55 - Accidently Overcame By Carbon Monoxide Poison\n",
    "56 - Breakage Of Any Part Of the Vehicle Resulting In Injury or in Further Property Damage\n",
    "57 - All Other Non-Collisions\n",
    "60 - Vehicle Hits State Road or Construction Machinery\n",
    "61 - Vehicle Struck By State Road or Construction Machinery\n",
    "62 - Vehicle Hits County Road or Construction Machinery\n",
    "63 - Vehicle Struck By County Road or Construction Machinery\n",
    "64 - Vehicle Hits City Road or Construction Machinery\n",
    "65 - Vehicle Struck By City Road or Construction Machinery\n",
    "66 - Vehicle Hits Other Road or Construction Machinery\n",
    "67 - Vehicle Struck by Other Road or Construction Machinery\n",
    "71 - Same Direction - Both Turning Right - Both Moving - Sideswipe\n",
    "72 - Same Direction - Both Turning Right - One Stopped - Sideswipe\n",
    "73 - Same Direction - Both Turning Right - Both Moving - Rear End\n",
    "74 - Same Direction - Both Turning Right - One Stopped - Rear End\n",
    "81 - Same Direction - Both Turning Left - Both Moving - Sideswipe\n",
    "82 - Same Direction - Both Turning Left - One Stopped - Sideswipe\n",
    "83 - Same Direction - Both Turning Left - Both Moving - Rear End\n",
    "84 - Same Direction - Both Turning Left - One Stopped - Rear End\n",
    "\n",
    "ST_COLDESC - a description that corresponds to the state’s coding designation\n",
    "SEGLANEKEY - a key for the lane segment in which the collision occurred\n",
    "CROSSWALKKEY - a key for the crosswalk at which the collision occurred"
   ]
  },
  {
   "cell_type": "markdown",
   "metadata": {},
   "source": [
    "# Kind of variables:\n",
    "# Numeric variables¶\n",
    "Although there are many columns that contain numerical data, many of those columns use numbers for labels or identification (aka key values).\n",
    "\n",
    "These numerical variables provide information about what each accident looked like:\n",
    "\n",
    "PERSONCOUNT (# of people invovled) PEDCOUNT (# of pedestirans) PEDCYLCOUNT (# of cyclists) VEHCOUNT (# of vehicles) INJURIES (# of injuries) SERIOUSINJURIES (# of serious injuries) FATALITIES (# of deaths)\n",
    "\n",
    "# Non-numeric columns of interest¶\n",
    "These string and categorical variables provide information about the situation or environment in which each accident occurred and could be used as predictors of accidents.\n",
    "\n",
    "External factors (i.e., not dependent on the characteristics of the collision site)¶ LIGHTCOND (light condition) WEATHER (description of the weather conditions during the time of the collision)"
   ]
  },
  {
   "cell_type": "code",
   "execution_count": null,
   "metadata": {},
   "outputs": [],
   "source": []
  }
 ],
 "metadata": {
  "kernelspec": {
   "display_name": "Python 3.6",
   "language": "python",
   "name": "python3"
  },
  "language_info": {
   "codemirror_mode": {
    "name": "ipython",
    "version": 3
   },
   "file_extension": ".py",
   "mimetype": "text/x-python",
   "name": "python",
   "nbconvert_exporter": "python",
   "pygments_lexer": "ipython3",
   "version": "3.6.9"
  }
 },
 "nbformat": 4,
 "nbformat_minor": 1
}
